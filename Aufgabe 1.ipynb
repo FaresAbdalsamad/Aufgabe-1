{
  "cells": [
    {
      "cell_type": "code",
      "execution_count": null,
      "metadata": {},
      "outputs": [
        {
          "name": "stdout",
          "output_type": "stream",
          "text": [
            "tensor([[  1,   2,   3,   4,   5,   6,   7,   8,   9,  10],\n",
            "        [ 11,  12,  13,  14,  15,  16,  17,  18,  19,  20],\n",
            "        [ 21,  22,  23,  24,  25,  26,  27,  28,  29,  30],\n",
            "        [ 31,  32,  33,  34,  35,  36,  37,  38,  39,  40],\n",
            "        [ 41,  42,  43,  44,  45,  46,  47,  48,  49,  50],\n",
            "        [ 51,  52,  53,  54,  55,  56,  57,  58,  59,  60],\n",
            "        [ 61,  62,  63,  64,  65,  66,  67,  68,  69,  70],\n",
            "        [ 71,  72,  73,  74,  75,  76,  77,  78,  79,  80],\n",
            "        [ 81,  82,  83,  84,  85,  86,  87,  88,  89,  90],\n",
            "        [ 91,  92,  93,  94,  95,  96,  97,  98,  99, 100]])\n",
            "True\n",
            "Size: torch.Size([9, 9])\n",
            "Stride: (10, 1)\n",
            "Offset: 11\n"
          ]
        }
      ],
      "source": [
        "import torch\n",
        "\n",
        "\n",
        "tensor = torch.arange(1, 101).view(10, 10)\n",
        "print(tensor)\n",
        "\n",
        "tensor_T = tensor.transpose(0, 1)\n",
        "print(tensor_T.data_ptr() == tensor.data_ptr()) \n",
        "\n",
        "\n",
        "submatrix = tensor[1:, 1:]\n",
        "size = submatrix.size()\n",
        "stride = submatrix.stride()\n",
        "offset = submatrix.storage_offset()\n",
        "print(\"Size:\", size)     \n",
        "print(\"Stride:\", stride) \n",
        "print(\"Offset:\", offset) \n"
      ]
    },
    {
      "cell_type": "code",
      "execution_count": 2,
      "metadata": {},
      "outputs": [
        {
          "name": "stderr",
          "output_type": "stream",
          "text": [
            "C:\\Users\\fares\\AppData\\Local\\Temp\\ipykernel_19172\\2423783139.py:2: UserWarning: torch.qr is deprecated in favor of torch.linalg.qr and will be removed in a future PyTorch release.\n",
            "The boolean parameter 'some' has been replaced with a string parameter 'mode'.\n",
            "Q, R = torch.qr(A, some)\n",
            "should be replaced with\n",
            "Q, R = torch.linalg.qr(A, 'reduced' if some else 'complete') (Triggered internally at ..\\aten\\src\\ATen\\native\\BatchLinearAlgebra.cpp:2431.)\n",
            "  q, r = torch.qr(A)\n"
          ]
        }
      ],
      "source": [
        "A = torch.randn(10, 10)\n",
        "q, r = torch.qr(A)\n",
        "A = q"
      ]
    },
    {
      "cell_type": "code",
      "execution_count": 3,
      "metadata": {},
      "outputs": [
        {
          "name": "stdout",
          "output_type": "stream",
          "text": [
            "Ausgangsmatrix A:\n",
            "tensor([[-0.2278, -0.2188,  0.2264, -0.0700, -0.2581,  0.7958,  0.0049, -0.2017,\n",
            "         -0.2996,  0.1167],\n",
            "        [-0.3910, -0.1328,  0.3194,  0.2903, -0.0348,  0.0899, -0.0351,  0.7027,\n",
            "          0.3719,  0.0232],\n",
            "        [ 0.1618, -0.5901, -0.4894,  0.2474, -0.2471,  0.0373,  0.2019,  0.1458,\n",
            "         -0.0745, -0.4415],\n",
            "        [ 0.1948, -0.1336,  0.0456, -0.3142, -0.6569, -0.1142,  0.1338, -0.1032,\n",
            "          0.5168,  0.3212],\n",
            "        [ 0.2104,  0.2437, -0.3023, -0.0275, -0.1483,  0.3006, -0.7785,  0.1252,\n",
            "          0.2034, -0.1696],\n",
            "        [-0.2219, -0.0684,  0.1994,  0.5069, -0.0190, -0.0745, -0.1443, -0.6330,\n",
            "          0.3906, -0.2634],\n",
            "        [ 0.1086, -0.4587,  0.5044, -0.4520,  0.0937, -0.2238, -0.3404,  0.0074,\n",
            "         -0.0902, -0.3689],\n",
            "        [ 0.3713,  0.4020,  0.2790, -0.0741,  0.0017,  0.3061,  0.4233,  0.0765,\n",
            "          0.2076, -0.5434],\n",
            "        [ 0.5143,  0.0472,  0.3765,  0.5241, -0.3010, -0.1429, -0.1335,  0.0969,\n",
            "         -0.3762,  0.1927],\n",
            "        [ 0.4727, -0.3607,  0.0055,  0.0932,  0.5637,  0.2898,  0.0189, -0.0434,\n",
            "          0.3356,  0.3481]])\n"
          ]
        }
      ],
      "source": [
        "print(\"Ausgangsmatrix A:\")\n",
        "print(A)"
      ]
    },
    {
      "cell_type": "code",
      "execution_count": 4,
      "metadata": {},
      "outputs": [
        {
          "name": "stdout",
          "output_type": "stream",
          "text": [
            "Inverse Matrix A^-1:\n",
            "tensor([[-0.2278, -0.3910,  0.1618,  0.1948,  0.2104, -0.2219,  0.1086,  0.3713,\n",
            "          0.5143,  0.4727],\n",
            "        [-0.2188, -0.1328, -0.5901, -0.1336,  0.2437, -0.0684, -0.4587,  0.4020,\n",
            "          0.0472, -0.3607],\n",
            "        [ 0.2264,  0.3194, -0.4894,  0.0456, -0.3023,  0.1994,  0.5044,  0.2790,\n",
            "          0.3765,  0.0055],\n",
            "        [-0.0700,  0.2903,  0.2474, -0.3142, -0.0275,  0.5069, -0.4520, -0.0741,\n",
            "          0.5241,  0.0932],\n",
            "        [-0.2581, -0.0348, -0.2471, -0.6569, -0.1483, -0.0190,  0.0937,  0.0017,\n",
            "         -0.3010,  0.5637],\n",
            "        [ 0.7958,  0.0899,  0.0373, -0.1142,  0.3006, -0.0745, -0.2238,  0.3061,\n",
            "         -0.1429,  0.2898],\n",
            "        [ 0.0049, -0.0351,  0.2019,  0.1338, -0.7785, -0.1443, -0.3404,  0.4233,\n",
            "         -0.1335,  0.0189],\n",
            "        [-0.2017,  0.7027,  0.1458, -0.1032,  0.1252, -0.6330,  0.0074,  0.0765,\n",
            "          0.0969, -0.0434],\n",
            "        [-0.2996,  0.3719, -0.0745,  0.5168,  0.2034,  0.3906, -0.0902,  0.2076,\n",
            "         -0.3762,  0.3356],\n",
            "        [ 0.1167,  0.0232, -0.4415,  0.3212, -0.1696, -0.2634, -0.3689, -0.5434,\n",
            "          0.1927,  0.3481]])\n"
          ]
        }
      ],
      "source": [
        "A_inv = torch.inverse(A)\n",
        "\n",
        "print(\"Inverse Matrix A^-1:\")\n",
        "print(A_inv)"
      ]
    },
    {
      "cell_type": "code",
      "execution_count": 5,
      "metadata": {},
      "outputs": [
        {
          "name": "stdout",
          "output_type": "stream",
          "text": [
            "Produkt von A und A^-1:\n",
            "tensor([[ 1.0000e+00,  1.0425e-08,  1.6686e-08, -4.6406e-08, -4.4197e-08,\n",
            "          1.3037e-08, -7.2153e-08, -2.6206e-08,  8.3493e-08,  3.0099e-08],\n",
            "        [ 1.3451e-08,  1.0000e+00,  1.3129e-08, -2.0737e-08,  2.3598e-08,\n",
            "          8.7550e-09, -8.4845e-08,  9.0149e-09,  1.1346e-08,  3.0616e-08],\n",
            "        [-4.4660e-09,  2.4384e-09,  1.0000e+00, -3.5991e-09, -1.0906e-08,\n",
            "         -9.6313e-09,  4.0012e-08,  2.9641e-09, -2.4025e-08, -4.0134e-08],\n",
            "        [-2.6963e-08, -1.0108e-07,  4.5674e-08,  1.0000e+00, -4.7734e-08,\n",
            "         -1.1045e-08,  6.6980e-08,  9.4647e-09, -3.5372e-08, -3.7496e-08],\n",
            "        [-2.3243e-08, -1.8740e-08, -1.8970e-08,  1.3465e-08,  1.0000e+00,\n",
            "         -1.6437e-08,  5.1153e-08,  4.3833e-08, -7.0614e-09, -1.3955e-08],\n",
            "        [-1.6198e-08,  3.5927e-08,  4.3719e-08, -3.2599e-08,  4.2969e-08,\n",
            "          1.0000e+00, -1.1849e-07,  4.1281e-08,  9.4703e-08, -9.6202e-09],\n",
            "        [-2.5179e-08, -2.4733e-08,  1.1246e-07,  1.5541e-08, -1.3690e-08,\n",
            "          1.9138e-09,  1.0000e+00,  2.2677e-08, -1.4834e-08, -6.1183e-09],\n",
            "        [-5.6488e-08,  1.6146e-07,  8.1352e-08,  4.1855e-08,  1.3384e-08,\n",
            "          1.1479e-08,  6.3499e-08,  1.0000e+00,  1.0280e-08, -4.7022e-08],\n",
            "        [-3.2205e-08,  1.7618e-09, -9.7036e-09, -2.9459e-11, -1.7931e-09,\n",
            "         -1.3729e-08, -1.1509e-09,  1.5357e-09,  1.0000e+00, -2.1439e-08],\n",
            "        [-2.2365e-08,  1.0006e-08, -2.3061e-08,  2.7960e-08, -1.1424e-08,\n",
            "         -1.0417e-08,  3.0160e-09,  2.4896e-08, -2.0329e-08,  1.0000e+00]])\n"
          ]
        }
      ],
      "source": [
        "I = torch.matmul(A, A_inv)\n",
        "print(\"Produkt von A und A^-1:\")\n",
        "print(I)"
      ]
    },
    {
      "cell_type": "code",
      "execution_count": 9,
      "metadata": {},
      "outputs": [],
      "source": [
        "from PIL import Image\n",
        "import numpy as np\n",
        "\n",
        "\n",
        "image = Image.open(r\"C:\\Users\\fares\\Downloads\\cat.jpg\")\n",
        "image_array = np.array(image)"
      ]
    },
    {
      "cell_type": "code",
      "execution_count": 18,
      "metadata": {},
      "outputs": [],
      "source": [
        "import numpy as np\n",
        "from PIL import Image\n",
        "from numpy.lib.stride_tricks import as_strided\n",
        "\n",
        "\n",
        "image = Image.open(r\"C:\\Users\\fares\\Downloads\\cat.jpg\")\n",
        "\n",
        "\n",
        "image_arr = np.array(image)\n",
        "\n",
        "\n",
        "size = (int(image_arr.shape[0] / 2), int(image_arr.shape[1] / 2))\n",
        "\n",
        "\n",
        "strides = tuple([stride*2 for stride in image_arr.strides])\n",
        "\n",
        "cutout = as_strided(image_arr, shape=size + image_arr.shape[2:], strides=strides)\n",
        "\n",
        "\n",
        "cutout_image = Image.fromarray(cutout)\n",
        "cutout_image.save(\"cutout.jpg\")"
      ]
    },
    {
      "cell_type": "code",
      "execution_count": 19,
      "metadata": {},
      "outputs": [],
      "source": [
        "cutout_image.show()"
      ]
    },
    {
      "cell_type": "code",
      "execution_count": null,
      "metadata": {},
      "outputs": [],
      "source": []
    }
  ],
  "metadata": {
    "kernelspec": {
      "display_name": "Python 3",
      "language": "python",
      "name": "python3"
    },
    "language_info": {
      "codemirror_mode": {
        "name": "ipython",
        "version": 3
      },
      "file_extension": ".py",
      "mimetype": "text/x-python",
      "name": "python",
      "nbconvert_exporter": "python",
      "pygments_lexer": "ipython3",
      "version": "3.11.3"
    }
  },
  "nbformat": 4,
  "nbformat_minor": 4
}
